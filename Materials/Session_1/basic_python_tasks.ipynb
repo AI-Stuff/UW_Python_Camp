{
 "cells": [
  {
   "cell_type": "markdown",
   "metadata": {
    "colab_type": "text",
    "id": "mx8lQWNMwm6g"
   },
   "source": [
    "# Basic Python Tasks"
   ]
  },
  {
   "cell_type": "markdown",
   "metadata": {
    "colab_type": "text",
    "id": "rYYTxll6wm6i"
   },
   "source": [
    "**Author:** Ties de Kok ([Personal Website](http://www.tiesdekok.com))  \n",
    "**Last updated:** 22 June 2018  \n",
    "**Python version:** Python 3.6  \n",
    "**License:** MIT License  "
   ]
  },
  {
   "cell_type": "markdown",
   "metadata": {
    "colab_type": "text",
    "id": "a7FLcvmMwm6j"
   },
   "source": [
    "## *Introduction*"
   ]
  },
  {
   "cell_type": "markdown",
   "metadata": {
    "colab_type": "text",
    "id": "XDCbIPT4wm6l"
   },
   "source": [
    "The best way to learn the basic Python syntax is by actually solving some problems with Python! \n",
    "\n",
    "In this notebook I will provide you with \"tasks\" that you can try to solve.  \n",
    "\n",
    "Most of what you need is discussed in the tutorial notebooks, the rest you will have to Google (which is an important exercise in itself).\n",
    "\n",
    "### Note: the tasks are split between \"essential basic functionality\" and \"advanced basic functionality\"   \n",
    "Both are important, but make sure that you at least go through the \"essential basic functionality\" part."
   ]
  },
  {
   "cell_type": "markdown",
   "metadata": {
    "colab_type": "text",
    "id": "iBEhsx4Bwm6l"
   },
   "source": [
    "## *Relevant notebooks*\n",
    "\n",
    "1. [`0_python_basics.ipynb`](https://nbviewer.jupyter.org/github/TiesdeKok/LearnPythonforResearch/blob/master/0_python_basics.ipynb)"
   ]
  },
  {
   "cell_type": "markdown",
   "metadata": {
    "colab_type": "text",
    "id": "9fsxX0mCwm6m"
   },
   "source": [
    "# Essential basic functionality <br> -----------------------------------------"
   ]
  },
  {
   "cell_type": "markdown",
   "metadata": {
    "colab_type": "text",
    "id": "hgWAhxgF1AWD"
   },
   "source": [
    "## Step 0: basics\n",
    "---"
   ]
  },
  {
   "cell_type": "markdown",
   "metadata": {
    "colab_type": "text",
    "id": "OFtLA-Ck1FeK"
   },
   "source": [
    "### Print \"Hello World!\" in the notebook"
   ]
  },
  {
   "cell_type": "code",
   "execution_count": null,
   "metadata": {},
   "outputs": [],
   "source": []
  },
  {
   "cell_type": "markdown",
   "metadata": {
    "colab_type": "text",
    "id": "qS-2Ihbj8aL0"
   },
   "source": [
    "### Make Python calculate 10 + 5 divided by 2"
   ]
  },
  {
   "cell_type": "code",
   "execution_count": null,
   "metadata": {},
   "outputs": [],
   "source": []
  },
  {
   "cell_type": "markdown",
   "metadata": {
    "colab_type": "text",
    "id": "Qp47bqtP-5dh"
   },
   "source": [
    "### Import the `math` library and run `math.pi` to show the value of pi"
   ]
  },
  {
   "cell_type": "code",
   "execution_count": null,
   "metadata": {},
   "outputs": [],
   "source": []
  },
  {
   "cell_type": "markdown",
   "metadata": {
    "colab_type": "text",
    "id": "UzZSXK1Gwvdm"
   },
   "source": [
    "## Step 1a: understand data structures\n",
    "---"
   ]
  },
  {
   "cell_type": "markdown",
   "metadata": {
    "colab_type": "text",
    "id": "w_6tVxyj1gQ1"
   },
   "source": [
    "### Create a variable called `name` that contains your name and print it"
   ]
  },
  {
   "cell_type": "code",
   "execution_count": null,
   "metadata": {},
   "outputs": [],
   "source": []
  },
  {
   "cell_type": "markdown",
   "metadata": {
    "colab_type": "text",
    "id": "ZXul-KMuxnJY"
   },
   "source": [
    "### Create a list with three types of fruit, call it `fruit_list`"
   ]
  },
  {
   "cell_type": "code",
   "execution_count": null,
   "metadata": {},
   "outputs": [],
   "source": []
  },
  {
   "cell_type": "markdown",
   "metadata": {
    "colab_type": "text",
    "id": "ZMZsCjDe8-8I"
   },
   "source": [
    "### Print the name of the second fruit in your list"
   ]
  },
  {
   "cell_type": "code",
   "execution_count": null,
   "metadata": {},
   "outputs": [],
   "source": []
  },
  {
   "cell_type": "markdown",
   "metadata": {
    "colab_type": "text",
    "id": "1QsJcb0ryEYe"
   },
   "source": [
    "### Add a fourth type of fruit to the **list** and then print the list"
   ]
  },
  {
   "cell_type": "code",
   "execution_count": null,
   "metadata": {},
   "outputs": [],
   "source": []
  },
  {
   "cell_type": "markdown",
   "metadata": {
    "colab_type": "text",
    "id": "nPPduwZKyjQL"
   },
   "source": [
    "### Create a dictionary called `fruit_dict` to keep track of how many pieces you have of each fruit.\n",
    "For example, let's say you have 5 apples, 2 oranges, and 1 banana. "
   ]
  },
  {
   "cell_type": "code",
   "execution_count": null,
   "metadata": {},
   "outputs": [],
   "source": []
  },
  {
   "cell_type": "markdown",
   "metadata": {
    "colab_type": "text",
    "id": "8d5-AfSjzGt1"
   },
   "source": [
    "### Print how many apples you currently have"
   ]
  },
  {
   "cell_type": "code",
   "execution_count": null,
   "metadata": {},
   "outputs": [],
   "source": []
  },
  {
   "cell_type": "markdown",
   "metadata": {
    "colab_type": "text",
    "id": "skZzWlxtzZlt"
   },
   "source": [
    "### You eat one apple, reduce your apple count in the dictionary with one"
   ]
  },
  {
   "cell_type": "code",
   "execution_count": null,
   "metadata": {},
   "outputs": [],
   "source": []
  },
  {
   "cell_type": "markdown",
   "metadata": {
    "colab_type": "text",
    "id": "7r4QTvps8yuE"
   },
   "source": [
    "### Add a new fruit to `fruit_dict` with a value of zero"
   ]
  },
  {
   "cell_type": "code",
   "execution_count": null,
   "metadata": {},
   "outputs": [],
   "source": []
  },
  {
   "cell_type": "markdown",
   "metadata": {
    "colab_type": "text",
    "id": "VbkNtih636mZ"
   },
   "source": [
    "## Step 1b: learn how to add a variable to a string\n",
    "---"
   ]
  },
  {
   "cell_type": "markdown",
   "metadata": {
    "colab_type": "text",
    "id": "6af0QHy037uG"
   },
   "source": [
    "### Take the `name` variable (created earlier) and print the following: \"My name is: YOUR NAME GOES HERE\"\n",
    "Important: obviously you need to insert the name using the `name` variable and not just type it  \n",
    "Hint: I recommend to use the `.format()` method."
   ]
  },
  {
   "cell_type": "code",
   "execution_count": null,
   "metadata": {},
   "outputs": [],
   "source": []
  },
  {
   "cell_type": "markdown",
   "metadata": {
    "colab_type": "text",
    "id": "XTqOau7Y03ZF"
   },
   "source": [
    "## Step 2: understand how to create booleans (True / False conditions using if / elif / else) \n",
    "---"
   ]
  },
  {
   "cell_type": "markdown",
   "metadata": {
    "colab_type": "text",
    "id": "jtNIQa1M1Qd5"
   },
   "source": [
    "### Create a variable called `year` containing a year. Then, create an `if` statement that prints \"That is our current year!\" if `year` is equal to 2018."
   ]
  },
  {
   "cell_type": "code",
   "execution_count": null,
   "metadata": {},
   "outputs": [],
   "source": []
  },
  {
   "cell_type": "markdown",
   "metadata": {
    "colab_type": "text",
    "id": "BG0NknMs2xvG"
   },
   "source": [
    "### Create a variable called `number` and print \"equal to 10\" if `number` is equal to 10, \"smaller than 10\" if `number` is smaller than 10, and \"larger than 10\" for all other numbers."
   ]
  },
  {
   "cell_type": "code",
   "execution_count": null,
   "metadata": {},
   "outputs": [],
   "source": []
  },
  {
   "cell_type": "markdown",
   "metadata": {
    "colab_type": "text",
    "id": "-wPcCIQeAQx8"
   },
   "source": [
    "### Create a variable called `fruit` and check whether that fruit is in `fruit_dict`"
   ]
  },
  {
   "cell_type": "code",
   "execution_count": null,
   "metadata": {},
   "outputs": [],
   "source": []
  },
  {
   "cell_type": "markdown",
   "metadata": {
    "colab_type": "text",
    "id": "yvSUk4oG2yqA"
   },
   "source": [
    "## Step 3: understand how to create loops\n",
    "---"
   ]
  },
  {
   "cell_type": "markdown",
   "metadata": {
    "colab_type": "text",
    "id": "_4rISdr62yz4"
   },
   "source": [
    "### Loop over every element in your `fruit_list` and print the name of each fruit"
   ]
  },
  {
   "cell_type": "code",
   "execution_count": null,
   "metadata": {},
   "outputs": [],
   "source": []
  },
  {
   "cell_type": "markdown",
   "metadata": {
    "colab_type": "text",
    "id": "7tbcTO0W2z3M"
   },
   "source": [
    "### Loop over every key (i.e. fruit) and value (i.e. number) in your `fruit_dict` dictionary and print the name of the fruit and the associated amount."
   ]
  },
  {
   "cell_type": "code",
   "execution_count": null,
   "metadata": {},
   "outputs": [],
   "source": []
  },
  {
   "cell_type": "markdown",
   "metadata": {},
   "source": [
    "### Create a variable called `count ` and set it to zero, then increment it by one (10 times) using the `range` function "
   ]
  },
  {
   "cell_type": "code",
   "execution_count": null,
   "metadata": {},
   "outputs": [],
   "source": []
  },
  {
   "cell_type": "markdown",
   "metadata": {
    "colab_type": "text",
    "id": "B9oS04bh9ZQf"
   },
   "source": [
    "## Step 4: understand what a function is\n",
    "---"
   ]
  },
  {
   "cell_type": "markdown",
   "metadata": {
    "colab_type": "text",
    "id": "FaFyKYyQ9Zhy"
   },
   "source": [
    "### Create a new function called `print_hello_world` that prints \"Hello World!\". Then run this function."
   ]
  },
  {
   "cell_type": "code",
   "execution_count": null,
   "metadata": {},
   "outputs": [],
   "source": []
  },
  {
   "cell_type": "markdown",
   "metadata": {
    "colab_type": "text",
    "id": "8Cdy-aG49Z5n"
   },
   "source": [
    "### Create a new function called `print_this` that takes a string as input (call the argument `str_input`) and then prints it. Run it with \"Hello World!\" as input."
   ]
  },
  {
   "cell_type": "code",
   "execution_count": null,
   "metadata": {},
   "outputs": [],
   "source": []
  },
  {
   "cell_type": "markdown",
   "metadata": {
    "colab_type": "text",
    "id": "oiUL_ulv-HRO"
   },
   "source": [
    "### Create a function called `add_up` that takes two inputs `num_1` and `num_2` and that returns the sum of these two numbers. Have it calculate 120 + 30."
   ]
  },
  {
   "cell_type": "code",
   "execution_count": null,
   "metadata": {},
   "outputs": [],
   "source": []
  },
  {
   "cell_type": "markdown",
   "metadata": {
    "colab_type": "text",
    "id": "8bbZI1QxAFWd"
   },
   "source": [
    "## Step 5a: exceptions\n",
    "---"
   ]
  },
  {
   "cell_type": "markdown",
   "metadata": {
    "colab_type": "text",
    "id": "--sOCTotAHDw"
   },
   "source": [
    "### Try to remove a fruit from `fruit_list` that is not actually in `fruit_list`"
   ]
  },
  {
   "cell_type": "code",
   "execution_count": null,
   "metadata": {},
   "outputs": [],
   "source": []
  },
  {
   "cell_type": "markdown",
   "metadata": {
    "colab_type": "text",
    "id": "XPXATofkBY5L"
   },
   "source": [
    "### Use `Try` and `Except` to try and remove a fruit from `fruit_list`. If it throws an error capture it and instead print \"This fruit is not in the list!\""
   ]
  },
  {
   "cell_type": "code",
   "execution_count": null,
   "metadata": {},
   "outputs": [],
   "source": []
  },
  {
   "cell_type": "markdown",
   "metadata": {
    "colab_type": "text",
    "id": "Cn3-jQzOCRKP"
   },
   "source": [
    "## Step 5b: OS operations\n",
    "---"
   ]
  },
  {
   "cell_type": "markdown",
   "metadata": {
    "colab_type": "text",
    "id": "9PZOylkFCYqD"
   },
   "source": [
    "### Import OS library and print your current working directory"
   ]
  },
  {
   "cell_type": "code",
   "execution_count": null,
   "metadata": {},
   "outputs": [],
   "source": []
  },
  {
   "cell_type": "markdown",
   "metadata": {
    "colab_type": "text",
    "id": "5tvadUG-Ckjf"
   },
   "source": [
    "### Use the OS library to show all files in the current working directory"
   ]
  },
  {
   "cell_type": "code",
   "execution_count": null,
   "metadata": {},
   "outputs": [],
   "source": []
  },
  {
   "cell_type": "markdown",
   "metadata": {
    "colab_type": "text",
    "id": "9fsxX0mCwm6m"
   },
   "source": [
    "# Advanced basic functionality <br> -----------------------------------------"
   ]
  },
  {
   "cell_type": "markdown",
   "metadata": {
    "colab_type": "text",
    "id": "UzZSXK1Gwvdm"
   },
   "source": [
    "## Step 1a: understand data structures\n",
    "---"
   ]
  },
  {
   "cell_type": "markdown",
   "metadata": {
    "colab_type": "text",
    "id": "oRFN_E_UzznD"
   },
   "source": [
    "### Suppose you want to track the amount of fruit for multiple people: create a dictionary in a dictionary called `multi_fruit_dict` to track the following:\n",
    "You have: 5 apples, 2 oranges, and 1 banana, and I (Ties) have 2 apples and 6 cherries"
   ]
  },
  {
   "cell_type": "code",
   "execution_count": null,
   "metadata": {},
   "outputs": [],
   "source": []
  },
  {
   "cell_type": "markdown",
   "metadata": {
    "colab_type": "text",
    "id": "-A4ZRPaE1UxQ"
   },
   "source": [
    "### Print how many cherries Ties has"
   ]
  },
  {
   "cell_type": "code",
   "execution_count": null,
   "metadata": {},
   "outputs": [],
   "source": []
  },
  {
   "cell_type": "markdown",
   "metadata": {
    "colab_type": "text",
    "id": "VbkNtih636mZ"
   },
   "source": [
    "## Step 1b: learn how to add a variable to a string\n",
    "---"
   ]
  },
  {
   "cell_type": "markdown",
   "metadata": {
    "colab_type": "text",
    "id": "gEl2wZfe405V"
   },
   "source": [
    "### Use the `name` variable and `multi_fruit_dict` dictionary to print: \"NAME has AMOUNT pieces of Apple\"\n",
    "For example: \"Ties has 2 pieces of Apple\". (NAME and AMOUNT are dynamic)"
   ]
  },
  {
   "cell_type": "code",
   "execution_count": null,
   "metadata": {},
   "outputs": [],
   "source": []
  },
  {
   "cell_type": "markdown",
   "metadata": {
    "colab_type": "text",
    "id": "XTqOau7Y03ZF"
   },
   "source": [
    "## Step 2: understand how to create booleans (True / False conditions using if / elif / else)  \n",
    "---"
   ]
  },
  {
   "cell_type": "markdown",
   "metadata": {
    "colab_type": "text",
    "id": "-wPcCIQeAQx8"
   },
   "source": [
    "### Create a variable called `fruit` and check whether that fruit is in `multi_fruit_dict` for Ties"
   ]
  },
  {
   "cell_type": "code",
   "execution_count": null,
   "metadata": {},
   "outputs": [],
   "source": []
  },
  {
   "cell_type": "markdown",
   "metadata": {
    "colab_type": "text",
    "id": "yvSUk4oG2yqA"
   },
   "source": [
    "## Step 3: understand how to create loops  \n",
    "---"
   ]
  },
  {
   "cell_type": "markdown",
   "metadata": {
    "colab_type": "text",
    "id": "JYhkQ3Pv20cO"
   },
   "source": [
    "### Create an empty list called \"fruit_amount_list\", then loop over every key and value in `fruit_dict` and combine them into a string \"FRUIT_AMOUNT\" (like: \"apple_2\") and store this new string in \"fruit_amount_list\""
   ]
  },
  {
   "cell_type": "code",
   "execution_count": null,
   "metadata": {},
   "outputs": [],
   "source": []
  },
  {
   "cell_type": "markdown",
   "metadata": {
    "colab_type": "text",
    "id": "fLZArTaq7ry9"
   },
   "source": [
    "### Create a variable called `count` with value 0, then use a while loop that increase `count` with one every loop as long as `count` is smaller than 10."
   ]
  },
  {
   "cell_type": "code",
   "execution_count": null,
   "metadata": {},
   "outputs": [],
   "source": []
  },
  {
   "cell_type": "markdown",
   "metadata": {
    "colab_type": "text",
    "id": "B9oS04bh9ZQf"
   },
   "source": [
    "## Step 4: understand what a function is  \n",
    "---"
   ]
  },
  {
   "cell_type": "markdown",
   "metadata": {
    "colab_type": "text",
    "id": "Y2-CKUlg-HfL"
   },
   "source": [
    "### Create a function called `calculate_this` that takes `num_1` and `num_2` as input and also a third input called `method`. If the method argument is \"add\" then the function should add the numbers, if the argument is \"substract\" then it should substract the numbers. Define the function in a way that it defaults to add if no method is specified."
   ]
  },
  {
   "cell_type": "code",
   "execution_count": null,
   "metadata": {},
   "outputs": [],
   "source": []
  },
  {
   "cell_type": "code",
   "execution_count": null,
   "metadata": {},
   "outputs": [],
   "source": []
  },
  {
   "cell_type": "markdown",
   "metadata": {
    "colab_type": "text",
    "id": "8bbZI1QxAFWd"
   },
   "source": [
    "## Step 5a: exceptions  \n",
    "---"
   ]
  },
  {
   "cell_type": "markdown",
   "metadata": {
    "colab_type": "text",
    "id": "XPXATofkBY5L"
   },
   "source": [
    "### Use `Try` and `Except` to try and remove a fruit from `fruit_list`. If it throws the `ValueError` error print \"This fruit is not in the list!\" otherwise print the error."
   ]
  },
  {
   "cell_type": "code",
   "execution_count": null,
   "metadata": {},
   "outputs": [],
   "source": []
  },
  {
   "cell_type": "markdown",
   "metadata": {
    "colab_type": "text",
    "id": "AfTcuXvMCkxL"
   },
   "source": [
    "## Step 5c: comprehensions  \n",
    "---"
   ]
  },
  {
   "cell_type": "markdown",
   "metadata": {
    "colab_type": "text",
    "id": "5GuJREveCy5_"
   },
   "source": [
    "### Loop over all numbers in `range(10)` and create a list of strings that follow this format: \"number_NUMBER-GOES-HERE\" using a list comprehension"
   ]
  },
  {
   "cell_type": "code",
   "execution_count": null,
   "metadata": {},
   "outputs": [],
   "source": []
  },
  {
   "cell_type": "markdown",
   "metadata": {
    "colab_type": "text",
    "id": "JYhkQ3Pv20cO"
   },
   "source": [
    "### Repeat this task but now with a list comprehension: \n",
    "> Create an empty list called \"fruit_amount_list\", then loop over every key and value in `fruit_dict` and combine them into a string \"FRUIT_AMOUNT\" (like: \"apple_2\") and store this new string in \"fruit_amount_list\""
   ]
  },
  {
   "cell_type": "code",
   "execution_count": null,
   "metadata": {},
   "outputs": [],
   "source": []
  },
  {
   "cell_type": "markdown",
   "metadata": {},
   "source": [
    "## Step 5d: OS + file operation  \n",
    "---"
   ]
  },
  {
   "cell_type": "markdown",
   "metadata": {
    "colab_type": "text",
    "id": "tDycQPHOwm61"
   },
   "source": [
    "### Retrieve your current working directory and save the working directory path to a ''workingdir.txt\" file."
   ]
  },
  {
   "cell_type": "markdown",
   "metadata": {
    "colab_type": "text",
    "id": "8ET-s8G8wm62"
   },
   "source": [
    "You can save the file to the working directory."
   ]
  },
  {
   "cell_type": "code",
   "execution_count": null,
   "metadata": {},
   "outputs": [],
   "source": []
  }
 ],
 "metadata": {
  "colab": {
   "default_view": {},
   "name": "basic_python_tasks.ipynb",
   "provenance": [],
   "version": "0.3.2",
   "views": {}
  },
  "kernelspec": {
   "display_name": "Python 3",
   "language": "python",
   "name": "python3"
  },
  "language_info": {
   "codemirror_mode": {
    "name": "ipython",
    "version": 3
   },
   "file_extension": ".py",
   "mimetype": "text/x-python",
   "name": "python",
   "nbconvert_exporter": "python",
   "pygments_lexer": "ipython3",
   "version": "3.6.4"
  }
 },
 "nbformat": 4,
 "nbformat_minor": 1
}
